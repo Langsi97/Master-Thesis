{
 "cells": [
  {
   "cell_type": "markdown",
   "metadata": {},
   "source": [
    "#  THIS CODE DOCUMENT IS FOR MY MASTERS THESIS \" \n",
    "Machine Learning in Football prediction for the Begian Jupiler League"
   ]
  },
  {
   "cell_type": "code",
   "execution_count": 1,
   "metadata": {},
   "outputs": [],
   "source": [
    "# Importing usefull packages\n",
    "import pandas as pd\n",
    "import numpy as np\n",
    "import matplotlib as plt"
   ]
  },
  {
   "cell_type": "code",
   "execution_count": 18,
   "metadata": {},
   "outputs": [],
   "source": [
    "\n",
    "# Reading the datasets (assuming they are CSV files)\n",
    "B1819 = pd.read_csv('B1819.csv')\n",
    "B1920 = pd.read_csv('B1920.csv')\n",
    "B2021 = pd.read_csv('B2021.csv')\n",
    "B2122 = pd.read_csv('B2122.csv')\n",
    "B2223 = pd.read_csv('B2223.csv')\n",
    "B2324 = pd.read_csv('B2324.csv')\n",
    "\n"
   ]
  },
  {
   "cell_type": "code",
   "execution_count": 17,
   "metadata": {},
   "outputs": [
    {
     "name": "stdout",
     "output_type": "stream",
     "text": [
      "2018/2019 season shape: (240, 61)\n",
      "2019/2020 season shape: (232, 105)\n",
      "2020/2021 season shape: (306, 105)\n",
      "2021/2022 season shape: (306, 106)\n",
      "2022/2023 season shape: (306, 105)\n",
      "2023/2024 season shape: (312, 105)\n"
     ]
    }
   ],
   "source": [
    "print(f'2018/2019 season shape: {B1819.shape}')\n",
    "print(f'2019/2020 season shape: {B1920.shape}')\n",
    "print(f'2020/2021 season shape: {B2021.shape}')\n",
    "print(f'2021/2022 season shape: {B2122.shape}')\n",
    "print(f'2022/2023 season shape: {B2223.shape}')\n",
    "print(f'2023/2024 season shape: {B2324.shape}')"
   ]
  },
  {
   "cell_type": "markdown",
   "metadata": {},
   "source": [
    "the data retrived from football.co.uk shows dissimilarities  accross the different years considered on the total number of matches played. \n",
    "-2018/2019 season had 240 games played \n",
    "-2019/2020 season had  232 games played\n",
    "-2020/2021, 2021/2022, 2022/2023 all had 306 games played.\n",
    "-2023/2024 season had 312 games played\n",
    "\n",
    "**The differene in total number of games will be invegated and if need be will be adjusted.**"
   ]
  },
  {
   "cell_type": "markdown",
   "metadata": {},
   "source": [
    "# Merging  datasets\n",
    " the 6 season datasets is combined into on main dataset  for further analyis and exploration."
   ]
  },
  {
   "cell_type": "code",
   "execution_count": 6,
   "metadata": {},
   "outputs": [
    {
     "data": {
      "text/html": [
       "<div>\n",
       "<style scoped>\n",
       "    .dataframe tbody tr th:only-of-type {\n",
       "        vertical-align: middle;\n",
       "    }\n",
       "\n",
       "    .dataframe tbody tr th {\n",
       "        vertical-align: top;\n",
       "    }\n",
       "\n",
       "    .dataframe thead th {\n",
       "        text-align: right;\n",
       "    }\n",
       "</style>\n",
       "<table border=\"1\" class=\"dataframe\">\n",
       "  <thead>\n",
       "    <tr style=\"text-align: right;\">\n",
       "      <th></th>\n",
       "      <th>Div</th>\n",
       "      <th>Date</th>\n",
       "      <th>HomeTeam</th>\n",
       "      <th>AwayTeam</th>\n",
       "      <th>FTHG</th>\n",
       "      <th>FTAG</th>\n",
       "      <th>FTR</th>\n",
       "      <th>HTHG</th>\n",
       "      <th>HTAG</th>\n",
       "      <th>HTR</th>\n",
       "      <th>...</th>\n",
       "      <th>AHCh</th>\n",
       "      <th>B365CAHH</th>\n",
       "      <th>B365CAHA</th>\n",
       "      <th>PCAHH</th>\n",
       "      <th>PCAHA</th>\n",
       "      <th>MaxCAHH</th>\n",
       "      <th>MaxCAHA</th>\n",
       "      <th>AvgCAHH</th>\n",
       "      <th>AvgCAHA</th>\n",
       "      <th>Unnamed: 105</th>\n",
       "    </tr>\n",
       "  </thead>\n",
       "  <tbody>\n",
       "    <tr>\n",
       "      <th>0</th>\n",
       "      <td>B1</td>\n",
       "      <td>27/07/2018</td>\n",
       "      <td>Standard</td>\n",
       "      <td>Gent</td>\n",
       "      <td>3</td>\n",
       "      <td>2</td>\n",
       "      <td>H</td>\n",
       "      <td>1.0</td>\n",
       "      <td>1.0</td>\n",
       "      <td>D</td>\n",
       "      <td>...</td>\n",
       "      <td>NaN</td>\n",
       "      <td>NaN</td>\n",
       "      <td>NaN</td>\n",
       "      <td>NaN</td>\n",
       "      <td>NaN</td>\n",
       "      <td>NaN</td>\n",
       "      <td>NaN</td>\n",
       "      <td>NaN</td>\n",
       "      <td>NaN</td>\n",
       "      <td>NaN</td>\n",
       "    </tr>\n",
       "    <tr>\n",
       "      <th>1</th>\n",
       "      <td>B1</td>\n",
       "      <td>28/07/2018</td>\n",
       "      <td>Kortrijk</td>\n",
       "      <td>Anderlecht</td>\n",
       "      <td>1</td>\n",
       "      <td>4</td>\n",
       "      <td>A</td>\n",
       "      <td>0.0</td>\n",
       "      <td>2.0</td>\n",
       "      <td>A</td>\n",
       "      <td>...</td>\n",
       "      <td>NaN</td>\n",
       "      <td>NaN</td>\n",
       "      <td>NaN</td>\n",
       "      <td>NaN</td>\n",
       "      <td>NaN</td>\n",
       "      <td>NaN</td>\n",
       "      <td>NaN</td>\n",
       "      <td>NaN</td>\n",
       "      <td>NaN</td>\n",
       "      <td>NaN</td>\n",
       "    </tr>\n",
       "    <tr>\n",
       "      <th>2</th>\n",
       "      <td>B1</td>\n",
       "      <td>28/07/2018</td>\n",
       "      <td>Oostende</td>\n",
       "      <td>Mouscron</td>\n",
       "      <td>2</td>\n",
       "      <td>1</td>\n",
       "      <td>H</td>\n",
       "      <td>0.0</td>\n",
       "      <td>1.0</td>\n",
       "      <td>A</td>\n",
       "      <td>...</td>\n",
       "      <td>NaN</td>\n",
       "      <td>NaN</td>\n",
       "      <td>NaN</td>\n",
       "      <td>NaN</td>\n",
       "      <td>NaN</td>\n",
       "      <td>NaN</td>\n",
       "      <td>NaN</td>\n",
       "      <td>NaN</td>\n",
       "      <td>NaN</td>\n",
       "      <td>NaN</td>\n",
       "    </tr>\n",
       "    <tr>\n",
       "      <th>3</th>\n",
       "      <td>B1</td>\n",
       "      <td>28/07/2018</td>\n",
       "      <td>St Truiden</td>\n",
       "      <td>Cercle Brugge</td>\n",
       "      <td>0</td>\n",
       "      <td>0</td>\n",
       "      <td>D</td>\n",
       "      <td>0.0</td>\n",
       "      <td>0.0</td>\n",
       "      <td>D</td>\n",
       "      <td>...</td>\n",
       "      <td>NaN</td>\n",
       "      <td>NaN</td>\n",
       "      <td>NaN</td>\n",
       "      <td>NaN</td>\n",
       "      <td>NaN</td>\n",
       "      <td>NaN</td>\n",
       "      <td>NaN</td>\n",
       "      <td>NaN</td>\n",
       "      <td>NaN</td>\n",
       "      <td>NaN</td>\n",
       "    </tr>\n",
       "    <tr>\n",
       "      <th>4</th>\n",
       "      <td>B1</td>\n",
       "      <td>28/07/2018</td>\n",
       "      <td>Waregem</td>\n",
       "      <td>Waasland-Beveren</td>\n",
       "      <td>2</td>\n",
       "      <td>2</td>\n",
       "      <td>D</td>\n",
       "      <td>1.0</td>\n",
       "      <td>0.0</td>\n",
       "      <td>H</td>\n",
       "      <td>...</td>\n",
       "      <td>NaN</td>\n",
       "      <td>NaN</td>\n",
       "      <td>NaN</td>\n",
       "      <td>NaN</td>\n",
       "      <td>NaN</td>\n",
       "      <td>NaN</td>\n",
       "      <td>NaN</td>\n",
       "      <td>NaN</td>\n",
       "      <td>NaN</td>\n",
       "      <td>NaN</td>\n",
       "    </tr>\n",
       "  </tbody>\n",
       "</table>\n",
       "<p>5 rows × 126 columns</p>\n",
       "</div>"
      ],
      "text/plain": [
       "  Div        Date    HomeTeam          AwayTeam  FTHG  FTAG FTR  HTHG  HTAG  \\\n",
       "0  B1  27/07/2018    Standard              Gent     3     2   H   1.0   1.0   \n",
       "1  B1  28/07/2018    Kortrijk        Anderlecht     1     4   A   0.0   2.0   \n",
       "2  B1  28/07/2018    Oostende          Mouscron     2     1   H   0.0   1.0   \n",
       "3  B1  28/07/2018  St Truiden     Cercle Brugge     0     0   D   0.0   0.0   \n",
       "4  B1  28/07/2018     Waregem  Waasland-Beveren     2     2   D   1.0   0.0   \n",
       "\n",
       "  HTR  ...  AHCh  B365CAHH  B365CAHA  PCAHH  PCAHA  MaxCAHH  MaxCAHA  AvgCAHH  \\\n",
       "0   D  ...   NaN       NaN       NaN    NaN    NaN      NaN      NaN      NaN   \n",
       "1   A  ...   NaN       NaN       NaN    NaN    NaN      NaN      NaN      NaN   \n",
       "2   A  ...   NaN       NaN       NaN    NaN    NaN      NaN      NaN      NaN   \n",
       "3   D  ...   NaN       NaN       NaN    NaN    NaN      NaN      NaN      NaN   \n",
       "4   H  ...   NaN       NaN       NaN    NaN    NaN      NaN      NaN      NaN   \n",
       "\n",
       "   AvgCAHA  Unnamed: 105  \n",
       "0      NaN           NaN  \n",
       "1      NaN           NaN  \n",
       "2      NaN           NaN  \n",
       "3      NaN           NaN  \n",
       "4      NaN           NaN  \n",
       "\n",
       "[5 rows x 126 columns]"
      ]
     },
     "execution_count": 6,
     "metadata": {},
     "output_type": "execute_result"
    }
   ],
   "source": [
    "# List of DataFrames\n",
    "dfs = [B1819, B1920, B2021, B2122, B2223, B2324]\n",
    "\n",
    "# Concatenate the DataFrames vertically (one below the other)\n",
    "merged_data = pd.concat(dfs, ignore_index=True)\n",
    "\n",
    "\n",
    "# Display the merged dataset\n",
    "merged_data.head()"
   ]
  },
  {
   "cell_type": "code",
   "execution_count": 8,
   "metadata": {},
   "outputs": [
    {
     "data": {
      "text/plain": [
       "(1702, 126)"
      ]
     },
     "execution_count": 8,
     "metadata": {},
     "output_type": "execute_result"
    }
   ],
   "source": [
    "merged_data.shape"
   ]
  }
 ],
 "metadata": {
  "kernelspec": {
   "display_name": "PROGDOCTOR",
   "language": "python",
   "name": "python3"
  },
  "language_info": {
   "codemirror_mode": {
    "name": "ipython",
    "version": 3
   },
   "file_extension": ".py",
   "mimetype": "text/x-python",
   "name": "python",
   "nbconvert_exporter": "python",
   "pygments_lexer": "ipython3",
   "version": "3.11.7"
  }
 },
 "nbformat": 4,
 "nbformat_minor": 2
}
